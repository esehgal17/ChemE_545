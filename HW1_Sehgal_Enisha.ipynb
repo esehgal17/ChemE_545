{
 "cells": [
  {
   "cell_type": "markdown",
   "id": "31248c73-4237-4825-90dc-6868e86f5da4",
   "metadata": {},
   "source": [
    "## HW 1 ( 30 points)"
   ]
  },
  {
   "cell_type": "markdown",
   "id": "78957f83-fa97-4d36-ae0b-2f5331f91fc7",
   "metadata": {},
   "source": [
    "#### Submit your homework as a. ipynb file. Use the format 'HW1_LastName_FirstName.ipynb'. If there are no comments/markdown describing what you have done, your work will not be graded. Follow the code of conduct. "
   ]
  },
  {
   "cell_type": "markdown",
   "id": "5e3c0416-838e-4b72-8851-92d9e788e810",
   "metadata": {},
   "source": [
    "### Problem 1: Data Extraction and Modification (10)"
   ]
  },
  {
   "cell_type": "markdown",
   "id": "8afb4315-0c70-4aa5-aaca-db1b615a927e",
   "metadata": {},
   "source": [
    "Write a Python function `extract_parameter` that takes the `unit_operations_data` dictionary, and outputs the name of the inputted unit operation, its desired feature name and value.  It will take a `unit_name` (string), a `parameter_name` (string), and an `index` (integer) as inputs and return a string in the format: \"`{unit_name}_{parameter_name}_{value}`\". If the `unit_name` or `parameter_name` is not found, or the `index` is out of range, the function should return \"Invalid input\".\n"
   ]
  },
  {
   "cell_type": "code",
   "execution_count": 1,
   "id": "bc79a14c-736d-43d0-99e9-15305807ae70",
   "metadata": {},
   "outputs": [],
   "source": [
    "unit_operations_data = {\n",
    "    \"distillation_column\": {\"temperature\": [150, 160, 170], \"pressure\": [2, 2.5, 3], \"flow_rate\": [100, 110, 120]},\n",
    "    \"reactor\": {\"temperature\": [250, 260, 270], \"pressure\": [5, 5.5, 6], \"residence_time\": [10, 12, 14]},\n",
    "    \"heat_exchanger\": {\"temperature_in\": [80, 90, 100], \"temperature_out\": [50, 60, 70], \"flow_rate\": [200, 210, 220]}\n",
    "}"
   ]
  },
  {
   "cell_type": "markdown",
   "id": "c61f98f1-8c13-402d-8b5c-99978b12c660",
   "metadata": {},
   "source": [
    "Example: `extract_parameter(\"distillation_column\", \"temperature\", 1)` should return \"distillation_column_temperature_160\". Hint: Look up try and except method for error handling in Python. "
   ]
  },
  {
   "cell_type": "markdown",
   "id": "6d622d5d-e217-436a-b428-05eb4dd88ce1",
   "metadata": {},
   "source": [
    "### Enisha's Solution:"
   ]
  },
  {
   "cell_type": "code",
   "execution_count": 2,
   "id": "72ba24d8-9ab9-4e6e-82bb-7b7d694b1a63",
   "metadata": {},
   "outputs": [
    {
     "data": {
      "text/plain": [
       "'Invalid input!!!'"
      ]
     },
     "execution_count": 2,
     "metadata": {},
     "output_type": "execute_result"
    }
   ],
   "source": [
    "def extract_parameter(unit_name, parameter_name, indx): #defining the function, and that it needs 3 inputs\n",
    "\n",
    "    #defining the dictionary that the function calls upon (note that the value is another dictionary!)\n",
    "    unit_operations_data = {\n",
    "    \"distillation_column\": {\"temperature\": [150, 160, 170], \"pressure\": [2, 2.5, 3], \"flow_rate\": [100, 110, 120]},\n",
    "    \"reactor\": {\"temperature\": [250, 260, 270], \"pressure\": [5, 5.5, 6], \"residence_time\": [10, 12, 14]},\n",
    "    \"heat_exchanger\": {\"temperature_in\": [80, 90, 100], \"temperature_out\": [50, 60, 70], \"flow_rate\": [200, 210, 220]}\n",
    "}\n",
    "    #using a try and except block so that if a user give invalid arguments, the code does not crash. (handels the issue nicely).\n",
    "    \n",
    "    try: #have the code attempt to comply with the following 2 lines\n",
    "        num = unit_operations_data[unit_name][parameter_name][indx] #variable \"num\" is assigned the corresponding value to the index provided by the user's argument\n",
    "        return f\"{unit_name}_{parameter_name}_{num}\" #f-string to print the variable in the format the HW problem asked for\n",
    "    except (KeyError, IndexError): #if the try block does not work, move to this section of the code ((takes in 2 arguments (does not need both), Key error means a dict key does not exists, and Index Error is if the index is out of range))\n",
    "        return \"Invalid input!!!\" #printing \"invalid input!!!\" if there is invalid arugments in the input \n",
    "\n",
    "# Example usage\n",
    "#extract_parameter(\"distillation_column\", \"temperature\", 1)  # Output: distillation_column_temperature_160\n",
    "# extract_parameter(\"reactor\", \"pressure\", 2)                # Output: reactor_pressure_6\n",
    "# extract_parameter(\"heat_exchanger\", \"flow_rate\", 3)       # Output: Invalid input\n",
    "extract_parameter(\"unknown_unit\", \"temperature\", 0)       # Output: Invalid input"
   ]
  },
  {
   "cell_type": "markdown",
   "id": "f94812c2-9cce-49a5-b505-c53fd3335f06",
   "metadata": {},
   "source": [
    "### just practicing dictionaries and calling their values below:"
   ]
  },
  {
   "cell_type": "code",
   "execution_count": 5,
   "id": "d4b49c82-2512-4dd7-be9a-84176ce139b4",
   "metadata": {},
   "outputs": [
    {
     "name": "stdout",
     "output_type": "stream",
     "text": [
      "{'english': [1, 2, 3], 'french': [4, 5, 6]}\n",
      "[4, 5, 6]\n",
      "4\n"
     ]
    }
   ],
   "source": [
    "dict = {'spoken_language' : {'english' : [1,2,3], 'french' : [4,5,6]}, \"non-verbal\" : {'ASL' : [7,8,9]}}\n",
    "\n",
    "print(dict['spoken_language'])\n",
    "print(dict['spoken_language']['french'])\n",
    "print(dict['spoken_language']['french'][0])"
   ]
  },
  {
   "cell_type": "markdown",
   "id": "1efd46aa-7454-41f8-927c-f3cecd7d5d2e",
   "metadata": {
    "tags": []
   },
   "source": [
    "### Problem 2: Chemical Solution Calculator (10 points)"
   ]
  },
  {
   "cell_type": "markdown",
   "id": "2b307912-0fe6-45c9-b3b9-5a16057e9aac",
   "metadata": {},
   "source": [
    "You are working in a lab preparing chemical solutions. You have a dictionary of chemicals\n",
    "with their molecular weights and a list of required solutions. "
   ]
  },
  {
   "cell_type": "code",
   "execution_count": 63,
   "id": "9eafa086-265c-4f38-976d-e71d5ec3e8b2",
   "metadata": {},
   "outputs": [],
   "source": [
    "molecular_weights = {\n",
    "    'NaCl': 58.44,\n",
    "    'H2SO4': 98.079,\n",
    "    'NaOH': 40.00,\n",
    "    'KMnO4': 158.034,\n",
    "    'CH3COOH': 60.052\n",
    "}"
   ]
  },
  {
   "cell_type": "code",
   "execution_count": 64,
   "id": "72313142-ae9d-4947-a893-5a9606536ba8",
   "metadata": {},
   "outputs": [],
   "source": [
    "solutions_needed = ['NaCl-0.5M', 'H2SO4-0.25M', 'NaOH-1M', 'KCl-0.1M', 'CH3COOH-0.3M']"
   ]
  },
  {
   "cell_type": "markdown",
   "id": "53bb711c-f5ff-4fde-8b35-34893b65ffb8",
   "metadata": {},
   "source": [
    "Create a function ```calculate_solution_weights(molecular_weights, solutions_needed)``` that takes these inputs and returns a modified list where:\n",
    "   - If the chemical exists in molecular_weights, replace the entry with:\n",
    "     'chemical_formula-concentration-weight'\n",
    "     where weight represents the weight of the compound in 1 litre solution in grams.\n",
    "\n",
    "     `weight = molecular_weight * concentration`\n",
    "   - If the chemical doesn't exist in molecular_weights, replace with 'unknown'\n",
    "   \n",
    "Example output:\n",
    "`['NaCl-0.5M-29.22g', 'H2SO4-0.25M-24.52g', 'NaOH-1M-40.00g', 'unknown', 'CH3COOH-0.3M-18.02g']`\n"
   ]
  },
  {
   "cell_type": "markdown",
   "id": "f3dbeba9-841c-4add-a6c4-dc848fe7587a",
   "metadata": {},
   "source": [
    "### Enisha's Solution:"
   ]
  },
  {
   "cell_type": "code",
   "execution_count": 1,
   "id": "a897bb81-1029-48f1-8d75-3621be2866ce",
   "metadata": {},
   "outputs": [],
   "source": [
    "#the dictionary the function will work with\n",
    "molecular_weights = {\n",
    "'NaCl': 58.44,\n",
    "'H2SO4': 98.079,\n",
    "'NaOH': 40.00,\n",
    "'KMnO4': 158.034,\n",
    "'CH3COOH': 60.052\n",
    "}\n",
    "#the list of solutions needed that the function will work with\n",
    "solutions_needed = ['NaCl-0.5M', 'H2SO4-0.25M', 'NaOH-1M', 'KCl-0.1M', 'CH3COOH-0.3M']\n",
    "\n",
    "def calculate_solution_weights(molecular_weights, solutions_needed): #define the function name and the 2 inputs it will take in\n",
    "    \n",
    "    output_list = [] #initalize an empty list so you can append strings to it later in the code\n",
    "    \n",
    "    for solution in solutions_needed: #looping through each string in the list \"solutions_needed\"\n",
    "        chemical_name = solution.split('-')[0] #grabbing just the chemical name (NaCl) from the list by splitting the list by the \"-\" character and take the first part (the 0th index)\n",
    "        concentration_full_name = solution.split('-')[1] #grabbing just the concentration name (including 'M') by splitting the list by the \"-\" character and take the second part (the 1st index)\n",
    "        concentration = float(concentration_full_name.replace('M', '')) #get rid of the 'M' in the variable \"concentration_full_name\" and replace with nothing AND turn it into a float so you can perform mathematical functions\n",
    "    \n",
    "        if chemical_name in molecular_weights: #checking to see if the chemical_name is avaiable in the dictionary \n",
    "            mol_weight = molecular_weights[chemical_name] #if it is, continue with this line and get the value from the key (chemical_name)\n",
    "            weight = mol_weight*concentration #calculate the weight by multiplying mol_weight by concentration\n",
    "            outputs = f'{chemical_name}-{concentration_full_name}-{weight:.2f}g' #format the outputs with an f-string and the variable names in {}. the \":.2f\" in the weight variable means round to 2 decimal places. I also need to add the \"g\" at the end to denote grams.\n",
    "        else: #if the chemical_name is NOT avaiable in the dictionary\n",
    "            outputs = 'unknown' #set the outputs variable to \"unknown\"\n",
    "    \n",
    "        output_list.append(outputs)#append the outputs from the for loop into this list (initialized earlier)\n",
    "    \n",
    "    return(output_list) #come out of the loop, and return the full list of everything that went through the loop.\n",
    "\n",
    "#Example output: ['NaCl-0.5M-29.22g', 'H2SO4-0.25M-24.52g', 'NaOH-1M-40.00g', 'unknown', 'CH3COOH-0.3M-18.02g']"
   ]
  },
  {
   "cell_type": "code",
   "execution_count": 2,
   "id": "e95cd7f8-c8fc-459c-be39-cada68dcbb6f",
   "metadata": {},
   "outputs": [
    {
     "name": "stdout",
     "output_type": "stream",
     "text": [
      "['NaCl-0.5M-29.22g', 'H2SO4-0.25M-24.52g', 'NaOH-1M-40.00g', 'unknown', 'CH3COOH-0.3M-18.02g']\n"
     ]
    }
   ],
   "source": [
    "print(calculate_solution_weights(molecular_weights, solutions_needed)) #calling the function to see what the output is!"
   ]
  },
  {
   "cell_type": "markdown",
   "id": "29ebc886-5b12-4e9a-ab78-55e9ff0319bc",
   "metadata": {},
   "source": [
    "### Problem 3: Git Version Control (10 Points)"
   ]
  },
  {
   "cell_type": "markdown",
   "id": "8ea117aa-d244-4972-97a0-db182a94b243",
   "metadata": {},
   "source": [
    "\n",
    "Create a public Git repository for this assignment on GitHub.\n",
    "\n",
    "1. Clone this repository to your local computer (connect your github repo to your local repo if needed).\n",
    "2. Make a Python file containing extract_parameter function. Add this file to the git repo and commit.\n",
    "3. Make a Python file containing calculate_solution_weights function. Add this file to the git repo and commit. Write meaningful messages while committing.\n",
    "4. Add a file with name 'README.md' that briefly explains your approach and how to run your Python files.\n",
    "5. dd 'README.md' file to the repo and commit.\n",
    "6. Push the repo to github.\n",
    "7. Submit the link to your public github repo."
   ]
  },
  {
   "cell_type": "code",
   "execution_count": null,
   "id": "6e8cc553-f9cb-4245-9b2f-f8377761ea87",
   "metadata": {},
   "outputs": [],
   "source": []
  }
 ],
 "metadata": {
  "kernelspec": {
   "display_name": "Python 3 (ipykernel)",
   "language": "python",
   "name": "python3"
  },
  "language_info": {
   "codemirror_mode": {
    "name": "ipython",
    "version": 3
   },
   "file_extension": ".py",
   "mimetype": "text/x-python",
   "name": "python",
   "nbconvert_exporter": "python",
   "pygments_lexer": "ipython3",
   "version": "3.11.9"
  }
 },
 "nbformat": 4,
 "nbformat_minor": 5
}
